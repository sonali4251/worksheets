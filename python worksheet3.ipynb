{
 "cells": [
  {
   "cell_type": "markdown",
   "id": "d0a41a90",
   "metadata": {},
   "source": [
    "# Q11 to Q15 are programming questions. Answer them in Jupyter Notebook.\n",
    "Q.11) Write a python function print pyramid of stars. Level of the pyramid should be taken as an input from the user. E.g. Input = 5 Output:"
   ]
  },
  {
   "cell_type": "code",
   "execution_count": 5,
   "id": "091e127e",
   "metadata": {},
   "outputs": [
    {
     "name": "stdout",
     "output_type": "stream",
     "text": [
      "Enter number of row: 5\n",
      "    *\n",
      "   ***\n",
      "  *****\n",
      " *******\n",
      "*********\n"
     ]
    }
   ],
   "source": [
    "# Reading number of row\n",
    "row = int(input('Enter number of row: '))\n",
    "\n",
    "# Upper part of diamond\n",
    "for i in range(1, row+1):\n",
    "    for j in range(1,row-i+1):\n",
    "        print(\" \", end=\"\")\n",
    "    for j in range(1, 2*i):\n",
    "        print(\"*\", end=\"\")\n",
    "    print()"
   ]
  },
  {
   "cell_type": "markdown",
   "id": "5ccdf24d",
   "metadata": {},
   "source": [
    "12.Write a python function print Hourglass pattern"
   ]
  },
  {
   "cell_type": "code",
   "execution_count": 6,
   "id": "85f52f70",
   "metadata": {},
   "outputs": [
    {
     "name": "stdout",
     "output_type": "stream",
     "text": [
      "*******\n",
      " *****\n",
      "  ***\n",
      "   *\n",
      "  ***\n",
      " *****\n",
      "*******\n"
     ]
    }
   ],
   "source": [
    "# Number of Rows\n",
    "row = 4\n",
    "\n",
    "# Upper-Half\n",
    "for i in range(row, 0, -1):\n",
    "    for j in range(row-i):\n",
    "        print(\" \", end=\"\")\n",
    "    for j in range(1, 2*i):\n",
    "        print(\"*\", end=\"\")\n",
    "    print()\n",
    "\n",
    "# Lower-Half\n",
    "for i in range(2, row+1):\n",
    "    for j in range(row-i):\n",
    "        print(\" \", end=\"\")\n",
    "    for j in range(1, 2*i):\n",
    "        print(\"*\", end=\"\")\n",
    "    print()"
   ]
  },
  {
   "cell_type": "markdown",
   "id": "093c73b8",
   "metadata": {},
   "source": [
    "13. Write a python function to print Pascal’s Triangle. The number of levels in the triangle must be taken as input by the user. "
   ]
  },
  {
   "cell_type": "code",
   "execution_count": 20,
   "id": "9074c447",
   "metadata": {},
   "outputs": [
    {
     "name": "stdout",
     "output_type": "stream",
     "text": [
      "     \n",
      "    1 \n",
      "   1 1 \n",
      "  1 2 1 \n",
      " 1 3 3 1 \n",
      "1 4 6 4 1 \n"
     ]
    }
   ],
   "source": [
    "def solve(n):\n",
    "   for i in range(n+1):\n",
    "      for j in range(n-i):\n",
    "         print(' ', end='')\n",
    "\n",
    "      C = 1\n",
    "      for j in range(1, i+1):\n",
    "         print(C, ' ', sep='', end='')\n",
    "         C = C * (i - j) // j\n",
    "      print()\n",
    "\n",
    "n = 5\n",
    "solve(n)"
   ]
  },
  {
   "cell_type": "markdown",
   "id": "465b55a5",
   "metadata": {},
   "source": [
    "14.Write a python function to print Diamond Shaped Pattern shown below. Function must take integer input which represents the number of stars in the middle most line. E.g.: Input = 5"
   ]
  },
  {
   "cell_type": "code",
   "execution_count": 8,
   "id": "50503df2",
   "metadata": {},
   "outputs": [
    {
     "name": "stdout",
     "output_type": "stream",
     "text": [
      "Enter number of row: 5\n",
      "    *\n",
      "   ***\n",
      "  *****\n",
      " *******\n",
      "*********\n",
      " *******\n",
      "  *****\n",
      "   ***\n",
      "    *\n"
     ]
    }
   ],
   "source": [
    "# Diamond pattern\n",
    "\n",
    "# Reading number of row\n",
    "row = int(input('Enter number of row: '))\n",
    "\n",
    "# Upper part of diamond\n",
    "for i in range(1, row+1):\n",
    "    for j in range(1,row-i+1):\n",
    "        print(\" \", end=\"\")\n",
    "    for j in range(1, 2*i):\n",
    "        print(\"*\", end=\"\")\n",
    "    print()\n",
    "\n",
    "# Lower part of diamond\n",
    "for i in range(row-1,0, -1):\n",
    "    for j in range(1,row-i+1):\n",
    "        print(\" \", end=\"\")\n",
    "    for j in range(1, 2*i):\n",
    "        print(\"*\", end=\"\")\n",
    "    print()"
   ]
  },
  {
   "cell_type": "markdown",
   "id": "b7fe9f2a",
   "metadata": {},
   "source": [
    "Q.15) Write a python function to print Diamond Shaped Character Pattern shown below. Function must take integer input within range 1 to 26, which represents the rank of the alphabet. E.g.:Input =5"
   ]
  },
  {
   "cell_type": "code",
   "execution_count": 15,
   "id": "89a11b6b",
   "metadata": {},
   "outputs": [
    {
     "name": "stdout",
     "output_type": "stream",
     "text": [
      "Enter number of row: 5\n",
      "        A \n",
      "      A B C \n",
      "    A B C D E \n",
      "  A B C D E F G \n",
      "A B C D E F G H I \n",
      "  A B C D E F G \n",
      "    A B C D E \n",
      "      A B C \n",
      "        A \n"
     ]
    }
   ],
   "source": [
    "# Reading number of row\n",
    "row = int(input('Enter number of row: '))\n",
    "\n",
    "# Upper part of diamond\n",
    "for i in range(1, row+1):\n",
    "    for j in range(1,row-i+1):\n",
    "        print(\" \", end=\" \")\n",
    "    for j in range(1, 2*i):\n",
    "        print(chr(64+j), end=\" \")\n",
    "    print()\n",
    "\n",
    "# Lower part of diamond\n",
    "for i in range(row-1,0, -1):\n",
    "    for j in range(1,row-i+1):\n",
    "        print(\" \", end=\" \")\n",
    "    for j in range(1, 2*i):\n",
    "        print(chr(64+j), end=\" \")\n",
    "    print()"
   ]
  },
  {
   "cell_type": "code",
   "execution_count": null,
   "id": "454f5302",
   "metadata": {},
   "outputs": [],
   "source": []
  },
  {
   "cell_type": "code",
   "execution_count": null,
   "id": "19c92160",
   "metadata": {},
   "outputs": [],
   "source": []
  }
 ],
 "metadata": {
  "kernelspec": {
   "display_name": "Python 3 (ipykernel)",
   "language": "python",
   "name": "python3"
  },
  "language_info": {
   "codemirror_mode": {
    "name": "ipython",
    "version": 3
   },
   "file_extension": ".py",
   "mimetype": "text/x-python",
   "name": "python",
   "nbconvert_exporter": "python",
   "pygments_lexer": "ipython3",
   "version": "3.9.7"
  }
 },
 "nbformat": 4,
 "nbformat_minor": 5
}
