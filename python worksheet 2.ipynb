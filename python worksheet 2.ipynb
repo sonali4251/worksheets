{
 "cells": [
  {
   "cell_type": "markdown",
   "id": "c35becc9",
   "metadata": {},
   "source": [
    "###### 14. Write a python program to solve a quadratic equation of the form 𝑎𝑥2 + 𝑏𝑥 + 𝑐 = 0. Where a, b and c are to be taken by user input. Handle the erroneous input, such as ‘a’ should not be equal to 0."
   ]
  },
  {
   "cell_type": "code",
   "execution_count": 2,
   "id": "50490be3",
   "metadata": {},
   "outputs": [
    {
     "name": "stdout",
     "output_type": "stream",
     "text": [
      "Enter a coeffcient)5\n",
      "Enter b in coeffcient6\n",
      "Enter c in coeffcient7\n",
      "The function has two complex (conjugate) roots:  (-0.6000000000000001-1.0198039027185568j)  and  (-0.5999999999999999+1.0198039027185568j)\n"
     ]
    }
   ],
   "source": [
    "a=int(input('Enter a coeffcient)'))\n",
    "b=int(input('Enter b in coeffcient'))\n",
    "c=int(input('Enter c in coeffcient'))\n",
    "des=b**2-(4*a*c)\n",
    "if a==0:\n",
    "    print(\"Invalid: a shouldn't be 0\")\n",
    "\n",
    "else:\n",
    "   \n",
    "    root_1= (-1*b - ((b**2 - 4*a*c)**0.5))/(2*a)\n",
    "    root_2= (-1*b + ((b**2 - 4*a*c)**0.5))/(2*a)\n",
    "if des > 0:\n",
    "    print(\"The function has two distinct real roots: \", root_1, \" and \", root_2)\n",
    "elif des == 0:\n",
    "    print(\"The function has one double root: \", x1)\n",
    "else:\n",
    "    print(\"The function has two complex (conjugate) roots: \", root_1, \" and \", root_2)"
   ]
  },
  {
   "cell_type": "markdown",
   "id": "d9177fcb",
   "metadata": {},
   "source": [
    "# 15. Write a python program to find the sum of first ‘n’ natural numbers without using any loop. Ask user to input the value of ‘n’."
   ]
  },
  {
   "cell_type": "code",
   "execution_count": 3,
   "id": "0c119443",
   "metadata": {},
   "outputs": [
    {
     "name": "stdout",
     "output_type": "stream",
     "text": [
      "Please enter the value of 'n'10\n",
      "Sum of fthe first  10 natural numbers is:  55.0\n"
     ]
    }
   ],
   "source": [
    "#Inserting values from user\n",
    "n = int(input(\"Please enter the value of 'n'\"))\n",
    "\n",
    "sum = n * (n+1) / 2\n",
    "\n",
    "print(\"Sum of fthe first \", n, \"natural numbers is: \", sum )"
   ]
  },
  {
   "cell_type": "code",
   "execution_count": null,
   "id": "c0f9ef17",
   "metadata": {},
   "outputs": [],
   "source": []
  }
 ],
 "metadata": {
  "kernelspec": {
   "display_name": "Python 3 (ipykernel)",
   "language": "python",
   "name": "python3"
  },
  "language_info": {
   "codemirror_mode": {
    "name": "ipython",
    "version": 3
   },
   "file_extension": ".py",
   "mimetype": "text/x-python",
   "name": "python",
   "nbconvert_exporter": "python",
   "pygments_lexer": "ipython3",
   "version": "3.9.7"
  }
 },
 "nbformat": 4,
 "nbformat_minor": 5
}
