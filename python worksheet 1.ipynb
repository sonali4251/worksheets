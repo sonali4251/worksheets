{
 "cells": [
  {
   "cell_type": "code",
   "execution_count": 1,
   "id": "a4b5cd61",
   "metadata": {},
   "outputs": [
    {
     "name": "stdout",
     "output_type": "stream",
     "text": [
      "input no: 15\n",
      "the factorial of  15 is 1307674368000\n"
     ]
    }
   ],
   "source": [
    "# 11. Write a python program to find the factorial of a number\n",
    "\n",
    "x=int(input(\"input no: \"))\n",
    "def factorial(x):\n",
    "    if x==0:\n",
    "        print (\"the factorial of 0 is 1\")\n",
    "    else:\n",
    "        y=1\n",
    "        for i in range(1,x+1):\n",
    "            y=y*i\n",
    "        print (\"the factorial of \",x,\"is\",y)\n",
    "        \n",
    "factorial(x)"
   ]
  },
  {
   "cell_type": "code",
   "execution_count": 2,
   "id": "87da784f",
   "metadata": {},
   "outputs": [
    {
     "name": "stdout",
     "output_type": "stream",
     "text": [
      "input the number:62\n",
      "The number 62 a composite no.\n"
     ]
    }
   ],
   "source": [
    "#12. Write a python program to find whether a number is prime or composite\n",
    "\n",
    "n= int(input(\"input the number:\"))\n",
    "if n>1:\n",
    "    for i in range(2,n,1):\n",
    "        if n%i == 0:\n",
    "            print(\"The number\", n, \"a composite no.\")\n",
    "            break\n",
    "    else:\n",
    "        print (\"The number\", n, \"a prime no.\")\n",
    "else:\n",
    "    print (\"The number\", n, \"a composite no.\")"
   ]
  },
  {
   "cell_type": "code",
   "execution_count": 3,
   "id": "a03469a4",
   "metadata": {},
   "outputs": [
    {
     "name": "stdout",
     "output_type": "stream",
     "text": [
      "input the number:531\n",
      "The number is not a palindrome!\n"
     ]
    }
   ],
   "source": [
    "#13. Write a python program to check whether a given string is palindrome or not\n",
    "\n",
    "n= int(input(\"input the number:\"))\n",
    "temp=n\n",
    "x=0\n",
    "while n>0:\n",
    "    y= n%10\n",
    "    x= x*10+ y\n",
    "    n=n//10\n",
    "if temp == x:\n",
    "    print (\"The number is palindrome!\")\n",
    "else:\n",
    "    print (\"The number is not a palindrome!\")"
   ]
  },
  {
   "cell_type": "code",
   "execution_count": 4,
   "id": "2cf258c8",
   "metadata": {},
   "outputs": [
    {
     "name": "stdout",
     "output_type": "stream",
     "text": [
      "input 1st side:25\n",
      "input 2nd side:27\n",
      "the third side of right-angled triangle from two given sides 36.796738985948195\n"
     ]
    }
   ],
   "source": [
    "#14. Write a Python program to get the third side of right-angled triangle from two given sides\n",
    "\n",
    "a= int(input(\"input 1st side:\"))\n",
    "b= int(input(\"input 2nd side:\"))\n",
    "\n",
    "#third_side= (a^2+ b^2)^ 1/2\n",
    "third_side = (((a**2)+(b**2))**(1/2))\n",
    "print (\"the third side of right-angled triangle from two given sides\", third_side)"
   ]
  },
  {
   "cell_type": "code",
   "execution_count": 5,
   "id": "c3a1ddcf",
   "metadata": {},
   "outputs": [
    {
     "name": "stdout",
     "output_type": "stream",
     "text": [
      "Enter the string: datatrained\n",
      "{'d': 2, 'a': 3, 't': 2, 'r': 1, 'i': 1, 'n': 1, 'e': 1}\n"
     ]
    }
   ],
   "source": [
    "#15. Write a python program to print the frequency of each of the characters present in a given string (Using if-else)\n",
    "\n",
    "string=input(\"Enter the string: \")\n",
    "\n",
    "d = dict()\n",
    "for i in string:\n",
    "    if i in d:\n",
    "        d[i] = d[i] + 1\n",
    "    else:\n",
    "        d[i] = 1\n",
    "print(d)"
   ]
  },
  {
   "cell_type": "code",
   "execution_count": 6,
   "id": "fe165af4",
   "metadata": {},
   "outputs": [
    {
     "name": "stdout",
     "output_type": "stream",
     "text": [
      "Enter the string: internship\n",
      "{'i': 2, 'n': 2, 't': 1, 'e': 1, 'r': 1, 's': 1, 'h': 1, 'p': 1}\n"
     ]
    }
   ],
   "source": [
    "#15. Write a python program to print the frequency of each of the characters present in a given string (Using if-else)\n",
    "\n",
    "string=input(\"Enter the string: \")\n",
    "\n",
    "d = dict()\n",
    "for i in string:\n",
    "    if i in d:\n",
    "        d[i] = d[i] + 1\n",
    "    else:\n",
    "        d[i] = 1\n",
    "print(d)"
   ]
  },
  {
   "cell_type": "code",
   "execution_count": null,
   "id": "b4764928",
   "metadata": {},
   "outputs": [],
   "source": []
  }
 ],
 "metadata": {
  "kernelspec": {
   "display_name": "Python 3 (ipykernel)",
   "language": "python",
   "name": "python3"
  },
  "language_info": {
   "codemirror_mode": {
    "name": "ipython",
    "version": 3
   },
   "file_extension": ".py",
   "mimetype": "text/x-python",
   "name": "python",
   "nbconvert_exporter": "python",
   "pygments_lexer": "ipython3",
   "version": "3.9.7"
  }
 },
 "nbformat": 4,
 "nbformat_minor": 5
}
